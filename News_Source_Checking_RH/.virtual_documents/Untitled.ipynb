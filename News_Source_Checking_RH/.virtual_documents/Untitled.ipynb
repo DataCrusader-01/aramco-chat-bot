


import requests
import pandas as pd 


def get_gnews(api_key, query="latest", lang="en", country="us", max_results=5):
    """
    Fetches news from GNews API based on the given parameters.
    
    Args:
        api_key (str): Your GNews API key.
        query (str): Keyword or topic to search for (default: "latest").
        lang (str): Language code (default: "en" for English).
        country (str): Country code (default: "us" for the United States).
        max_results (int): Number of news articles to fetch (default: 5).
    
    Returns:
        list: A list of news articles with title, description, and URL.
    """
    url = f"https://gnews.io/api/v4/search?q={query}&lang={lang}&country={country}&max={max_results}&apikey={api_key}"
    
    try:
        response = requests.get(url)
        response.raise_for_status()  # Raise an error for HTTP failures (4xx, 5xx)
        news_data = response.json()
        
        if "articles" in news_data:
            return news_data["articles"]
        else:
            return {"error": "No articles found or API limit exceeded"}
    
    except requests.exceptions.RequestException as e:
        return {"error": str(e)}

# Replace 'YOUR_API_KEY' with your actual API key from GNews
API_KEY = "ae3ae82fa8aa577cec40c0dff222c629"

# Fetch top 5 latest news articles
news_articles = get_gnews(API_KEY, query="aramco", max_results=1000)
df = pd.DataFrame(news_articles)


df.info()


df["publishedAt"] = pd.to_datetime(df["publishedAt"])
df


df.sort_values(by="publishedAt")


df["publishedAt"].value_counts()


df.shape


# Print the results
if isinstance(news_articles, list):
    for i, article in enumerate(news_articles, start=1):
        print(f"{i}. {article['title']}")
        print(f"   {article['description']}")
        print(f"   Read more: {article['url']}\n")
else:
    print(news_articles["error"])



