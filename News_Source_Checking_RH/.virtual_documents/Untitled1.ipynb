














from newsdataapi import NewsDataApiClient

# API key authorization, Initialize the client with your API key

api = NewsDataApiClient(apikey="pub_676734e5e12558dc51f2dd544b8a069165701")

# You can pass empty or with request parameters {ex. (country = "us")}

response = api.news_api( q= "aramco")


response 


import pandas as pd 

df = pd.DataFrame(response['results'])
df



