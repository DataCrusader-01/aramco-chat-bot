{
 "cells": [
  {
   "cell_type": "code",
   "execution_count": 1,
   "id": "b6edbc6e-dc3b-471a-a97b-1894120b3cc6",
   "metadata": {},
   "outputs": [],
   "source": [
    "import pywhatkit as kit\n",
    "\n",
    "# Send an instant message without delay\n",
    "kit.sendwhatmsg_instantly(\"+916281432822\", \"Hello, this is a fast message!\")\n"
   ]
  },
  {
   "cell_type": "code",
   "execution_count": 2,
   "id": "8f6ac578-c5a7-4b8e-a7cf-28ab93087d36",
   "metadata": {},
   "outputs": [
    {
     "name": "stdout",
     "output_type": "stream",
     "text": [
      "Sending message to +916281432822...\n",
      "Message sent successfully!\n"
     ]
    }
   ],
   "source": [
    "import pywhatkit as kit\n",
    "import time\n",
    "import pyautogui\n",
    "\n",
    "# Function to send an instant WhatsApp message\n",
    "def send_whatsapp_alert(number, message):\n",
    "    print(f\"Sending message to {number}...\")\n",
    "    kit.sendwhatmsg_instantly(number, message, wait_time=5)\n",
    "    time.sleep(5)  # Wait for WhatsApp to open\n",
    "    pyautogui.press(\"enter\")  # Press enter to send the message instantly\n",
    "    print(\"Message sent successfully!\")\n",
    "\n",
    "# Example: Send a WhatsApp alert\n",
    "send_whatsapp_alert(\"+916281432822\", \"🚨 Alert! This is an automated message.\")\n"
   ]
  },
  {
   "cell_type": "markdown",
   "id": "2e5aea16-466d-4d21-b6fb-6f1b3f1ba7df",
   "metadata": {},
   "source": [
    "### latest 1 news article based on keyword"
   ]
  },
  {
   "cell_type": "code",
   "execution_count": 8,
   "id": "7926ec22-973f-4121-8e45-a94fafac59aa",
   "metadata": {},
   "outputs": [
    {
     "name": "stdout",
     "output_type": "stream",
     "text": [
      "Sending news alert to +916281432822...\n",
      "News alert sent successfully!\n"
     ]
    }
   ],
   "source": [
    "import requests\n",
    "import pywhatkit as kit\n",
    "import time\n",
    "import pyautogui\n",
    "\n",
    "# 🔹 Your API Key from NewsAPI.org\n",
    "NEWS_API_KEY = \"5e09c165638e4db88228635ebeccc5f6\"\n",
    "\n",
    "# 🔹 WhatsApp Number (Format: \"+CountryCodePhoneNumber\")\n",
    "WHATSAPP_NUMBER = \"+916281432822\"\n",
    "\n",
    "# Function to get the latest 1 news article based on keyword\n",
    "def get_news(keyword, num_articles=1):\n",
    "    url = f\"https://newsapi.org/v2/everything?q={keyword}&sortBy=publishedAt&pageSize={num_articles}&apiKey={NEWS_API_KEY}\"\n",
    "    response = requests.get(url)\n",
    "    news_data = response.json()\n",
    "    \n",
    "    articles = news_data.get(\"articles\", [])[:num_articles]\n",
    "    if not articles:\n",
    "        return \"⚠️ No latest news found for this keyword.\"\n",
    "\n",
    "    # Extract details of the latest news article\n",
    "    article = articles[0]\n",
    "    title = article[\"title\"]\n",
    "    url = article[\"url\"]\n",
    "    published_at = article[\"publishedAt\"][:10]  # Extracting only the date\n",
    "\n",
    "    news_summary = f\"📰 Latest News on {keyword}:\\n\\n{title} ({published_at})\\n{url}\"\n",
    "    return news_summary\n",
    "\n",
    "# Function to send WhatsApp Alert\n",
    "def send_whatsapp_alert(news_message):\n",
    "    print(f\"Sending news alert to {WHATSAPP_NUMBER}...\")\n",
    "    \n",
    "    kit.sendwhatmsg_instantly(WHATSAPP_NUMBER, news_message, wait_time=5)\n",
    "    time.sleep(5)\n",
    "    pyautogui.press(\"enter\")  # Press enter to send\n",
    "    \n",
    "    print(\"News alert sent successfully!\")\n",
    "\n",
    "# 🔹 Keyword for news search (Change as needed)\n",
    "keyword = \"Elon Musk\"\n",
    "\n",
    "# 🔹 Fetch the latest 1 news article\n",
    "news_summary = get_news(keyword)\n",
    "\n",
    "# 🔹 Send WhatsApp Alert\n",
    "send_whatsapp_alert(news_summary)\n"
   ]
  },
  {
   "cell_type": "markdown",
   "id": "e4f9ccff-2dc3-4342-92c3-3b8511ebafd8",
   "metadata": {},
   "source": [
    "### top 10 news articles based on keyword"
   ]
  },
  {
   "cell_type": "code",
   "execution_count": 5,
   "id": "4f95db0b-0f90-4f5e-8229-d3f889cf023e",
   "metadata": {},
   "outputs": [
    {
     "name": "stdout",
     "output_type": "stream",
     "text": [
      "Sending news alert to +916281432822...\n",
      "News alert sent successfully!\n"
     ]
    }
   ],
   "source": [
    "import requests\n",
    "import pywhatkit as kit\n",
    "import time\n",
    "import pyautogui\n",
    "\n",
    "# 🔹 Your API Key from NewsAPI.org\n",
    "NEWS_API_KEY = \"5e09c165638e4db88228635ebeccc5f6\"\n",
    "\n",
    "# 🔹 WhatsApp Number (Format: \"+CountryCodePhoneNumber\")\n",
    "WHATSAPP_NUMBER = \"+916281432822\"\n",
    "\n",
    "# Function to get top 10 news articles based on keyword\n",
    "def get_news(keyword, num_articles=10):\n",
    "    url = f\"https://newsapi.org/v2/everything?q={keyword}&sortBy=publishedAt&pageSize={num_articles}&apiKey={NEWS_API_KEY}\"\n",
    "    response = requests.get(url)\n",
    "    news_data = response.json()\n",
    "    \n",
    "    articles = news_data.get(\"articles\", [])[:num_articles]\n",
    "    news_list = []\n",
    "    \n",
    "    for idx, article in enumerate(articles):\n",
    "        title = article[\"title\"]\n",
    "        url = article[\"url\"]\n",
    "        published_at = article[\"publishedAt\"][:10]  # Extracting only the date\n",
    "        news_list.append(f\"{idx+1}. {title} ({published_at})\\n{url}\")\n",
    "\n",
    "    if len(news_list) < num_articles:\n",
    "        news_list.append(f\"\\n⚠️ Only {len(news_list)} news articles found for '{keyword}'. Expected 10.\")\n",
    "\n",
    "    return \"\\n\\n\".join(news_list) if news_list else \"No news articles found.\"\n",
    "\n",
    "# Function to send WhatsApp Alert\n",
    "def send_whatsapp_alert(news_message):\n",
    "    print(f\"Sending news alert to {WHATSAPP_NUMBER}...\")\n",
    "    \n",
    "    # Splitting message if it's too long for WhatsApp\n",
    "    max_length = 2000  # WhatsApp message limit\n",
    "    if len(news_message) > max_length:\n",
    "        parts = [news_message[i:i+max_length] for i in range(0, len(news_message), max_length)]\n",
    "        for part in parts:\n",
    "            kit.sendwhatmsg_instantly(WHATSAPP_NUMBER, part, wait_time=5)\n",
    "            time.sleep(5)\n",
    "            pyautogui.press(\"enter\")  # Press enter to send\n",
    "    else:\n",
    "        kit.sendwhatmsg_instantly(WHATSAPP_NUMBER, news_message, wait_time=5)\n",
    "        time.sleep(5)\n",
    "        pyautogui.press(\"enter\")  # Press enter to send\n",
    "    \n",
    "    print(\"News alert sent successfully!\")\n",
    "\n",
    "# 🔹 Keyword for news search (Change as needed)\n",
    "keyword = \"Elon Musk\"\n",
    "\n",
    "# 🔹 Fetch latest 10 news articles\n",
    "news_summary = get_news(keyword)\n",
    "\n",
    "# 🔹 Send WhatsApp Alert\n",
    "if news_summary:\n",
    "    send_whatsapp_alert(f\"📰 Latest 10 News on {keyword}:\\n\\n{news_summary}\")\n",
    "else:\n",
    "    send_whatsapp_alert(f\"⚠️ No news found on '{keyword}'. Try a different keyword.\")\n"
   ]
  },
  {
   "cell_type": "markdown",
   "id": "f0507dd8",
   "metadata": {},
   "source": [
    "#### WhatsApp Business API"
   ]
  },
  {
   "cell_type": "code",
   "execution_count": 6,
   "id": "a6fb9598",
   "metadata": {},
   "outputs": [
    {
     "name": "stdout",
     "output_type": "stream",
     "text": [
      "\n",
      "--- Hello World Template ---\n",
      "Status Code: 401\n",
      "Response: {'error': {'message': 'Error validating access token: Session has expired on Thursday, 20-Feb-25 06:00:00 PST. The current time is Friday, 21-Feb-25 01:34:28 PST.', 'type': 'OAuthException', 'code': 190, 'error_subcode': 463, 'fbtrace_id': 'A6xoNMBRXcWT2RulU9sol5c'}}\n",
      "\n",
      "--- Text Message ---\n",
      "Status Code: 401\n",
      "Response: {'error': {'message': 'Error validating access token: Session has expired on Thursday, 20-Feb-25 06:00:00 PST. The current time is Friday, 21-Feb-25 01:34:28 PST.', 'type': 'OAuthException', 'code': 190, 'error_subcode': 463, 'fbtrace_id': 'ApdN6EG6kZb9mq823OiW5uy'}}\n"
     ]
    }
   ],
   "source": [
    "\n",
    "import os\n",
    "import requests\n",
    "\n",
    "# Your API credentials\n",
    "WHATSAPP_TOKEN = \"EAAHNqC4eiEoBO1z3SXzYB8PZBGyW0Hq3qnEgSoEiZCKVSfRizQMKmOXJq6GlvYpoTt10j3WtjwsBhZA4j2YA4zBdMPmVRZBhZAbcaxZCTlzHK1zKyYfR9SZC4ZCDZAq5Nkgu3jJCunCtSsNJOTfSyIkVCNqw23tp4bg4Otd8OAXkWnragHRwWb0gkM3Oqe9bC9YFhqj5TNDcROLcgiv3waw7bDAv78q1ZCZAG4KStsZD\"\n",
    "PHONE_NUMBER = \"916281432822\"\n",
    "PHONE_NUMBER_ID = \"471691732693814\"\n",
    "GRAPH_API_VERSION = \"v21.0\"\n",
    "BASE_URL = f\"https://graph.facebook.com/{GRAPH_API_VERSION}/{PHONE_NUMBER_ID}/messages\"\n",
    "\n",
    "# Function to send \"hello_world\" template\n",
    "def send_hello_world_template():\n",
    "    headers = {\n",
    "        \"Authorization\": f\"Bearer {WHATSAPP_TOKEN}\",\n",
    "        \"Content-Type\": \"application/json\"\n",
    "    }\n",
    "    data = {\n",
    "        \"messaging_product\": \"whatsapp\",\n",
    "        \"to\": PHONE_NUMBER,\n",
    "        \"type\": \"template\",\n",
    "        \"template\": {\n",
    "            \"name\": \"hello_world\",  # ✅ Ensure this template is approved\n",
    "            \"language\": {\"code\": \"en_US\"}\n",
    "        }\n",
    "    }\n",
    "    response = requests.post(BASE_URL, json=data, headers=headers)\n",
    "    \n",
    "    print(\"\\n--- Hello World Template ---\")\n",
    "    print(\"Status Code:\", response.status_code)\n",
    "    print(\"Response:\", response.json())\n",
    "\n",
    "# Function to send a text message\n",
    "def send_text_message():\n",
    "    headers = {\n",
    "        \"Authorization\": f\"Bearer {WHATSAPP_TOKEN}\",\n",
    "        \"Content-Type\": \"application/json\"\n",
    "    }\n",
    "    data = {\n",
    "        \"messaging_product\": \"whatsapp\",\n",
    "        \"to\": PHONE_NUMBER,\n",
    "        \"type\": \"text\",\n",
    "        \"text\": {\"body\": \"This is the text message\"}  # ✅ Your custom text message\n",
    "    }\n",
    "    response = requests.post(BASE_URL, json=data, headers=headers)\n",
    "\n",
    "    print(\"\\n--- Text Message ---\")\n",
    "    print(\"Status Code:\", response.status_code)\n",
    "    print(\"Response:\", response.json())\n",
    "\n",
    "\n",
    "# Run the functions\n",
    "send_hello_world_template()  # Sends \"hello_world\" template\n",
    "send_text_message()  # Sends a text message\n"
   ]
  },
  {
   "cell_type": "code",
   "execution_count": null,
   "id": "6381980b",
   "metadata": {},
   "outputs": [],
   "source": []
  }
 ],
 "metadata": {
  "kernelspec": {
   "display_name": "Python 3",
   "language": "python",
   "name": "python3"
  },
  "language_info": {
   "codemirror_mode": {
    "name": "ipython",
    "version": 3
   },
   "file_extension": ".py",
   "mimetype": "text/x-python",
   "name": "python",
   "nbconvert_exporter": "python",
   "pygments_lexer": "ipython3",
   "version": "3.11.4"
  }
 },
 "nbformat": 4,
 "nbformat_minor": 5
}
